{
 "cells": [
  {
   "cell_type": "markdown",
   "metadata": {
    "pycharm": {
     "name": "#%% md\n"
    }
   },
   "source": [
    "# EPA1361 - Model-Based Decision Making\n",
    "# Week 3 - Sensitivity analysis\n",
    "\n",
    "This exercise uses the same predator-prey model we used for the multi-model exercise, focusing on the Python version. As with the other exercise, define a model object for the function below, with the uncertainty ranges provided:\n",
    "\n",
    "|Parameter\t|Range or value\t        |\n",
    "|-----------|--------------:|\n",
    "|prey_birth_rate    \t|0.015 – 0.035\t|\n",
    "|predation_rate|0.0005 – 0.003 \t|\n",
    "|predator_efficiency     \t|0.001 – 0.004\t    |\n",
    "|predator_loss_rate\t    |0.04 – 0.08\t    |\n",
    "\n",
    "* Sensitivity analysis often focuses on the final values of an outcome at the end of the simulation. However, we can also look at metrics that give us additional information about the behavior of the model over time. Using [the statsmodel library](https://www.statsmodels.org/stable/index.html) and an appropriate sampling design, fit a linear regression model for each of the following indicators. What can we conclude about the behavior of the model, and about the importance of the different inputs?\n",
    "\n",
    "  * The final values of the _prey_ outcome\n",
    "  * The mean values of the _prey_ outcome over time, within each experiment\n",
    "  * The standard deviations of the _prey_ outcome over time, within each experiment\n",
    "  \n",
    "\n",
    "* Use the Sobol sampling functionality included in the Workbench to perform experiments with a sample size of N=50, then analyze the results with SALib for the same three indicators. This requires specifying the keyword argument `'uncertainty_sampling'` of perform_experiments. Note that when using Sobol sampling, the meaning of the keyword argument `scenarios` changes a bit. In order to properly estimate Sobol scores as well as interaction effects, you require N * (2D+2) scenarios, where D is the number of uncertain parameters, and N is the value for scenarios passed to `perform_experiments`. Repeat the analysis for larger sample sizes, with N=250 and N=1000. How can we interpret the first-order and total indices? Are these sample sizes sufficient for a stable estimation of the indices? You'll need to use the [get_SALib_problem](https://emaworkbench.readthedocs.io/en/latest/ema_documentation/em_framework/salib_samplers.html) function to convert your Workbench experiments to a problem definition that you can pass to the SALib analysis function. \n",
    "\n",
    "* *hint*: sobol is a deterministic sequence of quasi random numbers. Thus, you can run with N=1000 and simply slice for 1:50 and 1:250.\n",
    "\n",
    "* Use the [Extra-Trees analysis](https://emaworkbench.readthedocs.io/en/latest/ema_documentation/analysis/feature_scoring.html) included in the Workbench to approximate the Sobol total indices, with a suitable sampling design. As a starting point, use an ensemble of 100 trees and a max_features parameter of 0.6, and set the analysis to regression mode. Are the estimated importances stable relative to the sample size and the analysis parameters? How do the results compare to the Sobol indices? For more details on this analysis see [Jaxa-Rozen & Kwakkel (2018)](https://www.sciencedirect.com/science/article/pii/S1364815217311581)"
   ]
  },
  {
   "cell_type": "code",
   "execution_count": 1,
   "metadata": {
    "collapsed": false,
    "jupyter": {
     "outputs_hidden": false
    },
    "pycharm": {
     "name": "#%%\n"
    }
   },
   "outputs": [],
   "source": [
    "import numpy as np\n",
    "import seaborn as sns\n",
    "import pandas as pd\n",
    "import matplotlib.pyplot as plt\n",
    "\n",
    "from ema_workbench import (Model, RealParameter, Constant, TimeSeriesOutcome, MultiprocessingEvaluator, perform_experiments, ema_logging)\n",
    "\n",
    "from ema_workbench import Samplers\n",
    "\n",
    "from ema_workbench.analysis import feature_scoring\n",
    "from ema_workbench.analysis.scenario_discovery_util import RuleInductionType\n",
    "from ema_workbench.em_framework.salib_samplers import get_SALib_problem\n",
    "from SALib.analyze import sobol\n",
    "\n",
    "from pred import PredPrey"
   ]
  },
  {
   "cell_type": "code",
   "execution_count": 2,
   "outputs": [],
   "source": [
    "model = Model(\"PurePythonModel\", function=PredPrey)\n",
    "\n",
    "# specify uncertainties\n",
    "model.uncertainties = [\n",
    "    RealParameter(\"prey_birth_rate\", 0.015, 0.035),\n",
    "    RealParameter(\"predation_rate\", 0.0005, 0.003),\n",
    "    RealParameter(\"predator_efficiency\", 0.001, 0.004),\n",
    "    RealParameter(\"predator_loss_rate\", 0.04, 0.08),\n",
    "]                           \n",
    "\n",
    "# specify constants\n",
    "model.constants = [\n",
    "    Constant(\"initial_prey\", 50),\n",
    "    Constant(\"initial_predators\", 20),\n",
    "    Constant(\"dt\", 0.25),\n",
    "    Constant(\"final_time\", 365),\n",
    "]\n",
    "\n",
    "# specify outcomes\n",
    "model.outcomes = [\n",
    "    TimeSeriesOutcome(\"TIME\"),\n",
    "    TimeSeriesOutcome(\"predators\"),\n",
    "    TimeSeriesOutcome(\"prey\"),\n",
    "]"
   ],
   "metadata": {
    "collapsed": false,
    "pycharm": {
     "name": "#%%\n"
    }
   }
  },
  {
   "cell_type": "code",
   "execution_count": 3,
   "outputs": [
    {
     "name": "stderr",
     "output_type": "stream",
     "text": [
      "100%|███████████████████████████████████| 10240/10240 [00:29<00:00, 342.44it/s]\n"
     ]
    }
   ],
   "source": [
    "with MultiprocessingEvaluator(model) as evaluator:\n",
    "    experiments, outcomes = evaluator.perform_experiments(\n",
    "        scenarios=1024, uncertainty_sampling=Samplers.SOBOL\n",
    "    )"
   ],
   "metadata": {
    "collapsed": false,
    "pycharm": {
     "name": "#%%\n"
    }
   }
  },
  {
   "cell_type": "code",
   "execution_count": 4,
   "outputs": [],
   "source": [
    "prey_df = pd.DataFrame(outcomes[\"prey\"])\n",
    "prey = pd.DataFrame()"
   ],
   "metadata": {
    "collapsed": false,
    "pycharm": {
     "name": "#%%\n"
    }
   }
  },
  {
   "cell_type": "code",
   "execution_count": 5,
   "outputs": [
    {
     "data": {
      "text/plain": "         end        avg        std\n0  48.105716  26.914849  16.291051\n1  46.989807  27.607930  14.630655\n2   8.160789  14.623363  16.487687\n3  19.934539  21.932126  17.199938\n4  58.663258  27.830625  17.439089",
      "text/html": "<div>\n<style scoped>\n    .dataframe tbody tr th:only-of-type {\n        vertical-align: middle;\n    }\n\n    .dataframe tbody tr th {\n        vertical-align: top;\n    }\n\n    .dataframe thead th {\n        text-align: right;\n    }\n</style>\n<table border=\"1\" class=\"dataframe\">\n  <thead>\n    <tr style=\"text-align: right;\">\n      <th></th>\n      <th>end</th>\n      <th>avg</th>\n      <th>std</th>\n    </tr>\n  </thead>\n  <tbody>\n    <tr>\n      <th>0</th>\n      <td>48.105716</td>\n      <td>26.914849</td>\n      <td>16.291051</td>\n    </tr>\n    <tr>\n      <th>1</th>\n      <td>46.989807</td>\n      <td>27.607930</td>\n      <td>14.630655</td>\n    </tr>\n    <tr>\n      <th>2</th>\n      <td>8.160789</td>\n      <td>14.623363</td>\n      <td>16.487687</td>\n    </tr>\n    <tr>\n      <th>3</th>\n      <td>19.934539</td>\n      <td>21.932126</td>\n      <td>17.199938</td>\n    </tr>\n    <tr>\n      <th>4</th>\n      <td>58.663258</td>\n      <td>27.830625</td>\n      <td>17.439089</td>\n    </tr>\n  </tbody>\n</table>\n</div>"
     },
     "execution_count": 5,
     "metadata": {},
     "output_type": "execute_result"
    }
   ],
   "source": [
    "prey[\"end\"] = prey_df.iloc[:, -1]\n",
    "prey[\"avg\"] = prey_df.mean(axis=1)\n",
    "prey[\"std\"] = prey_df.std(axis=1)\n",
    "prey.head()"
   ],
   "metadata": {
    "collapsed": false,
    "pycharm": {
     "name": "#%%\n"
    }
   }
  },
  {
   "cell_type": "code",
   "execution_count": 6,
   "outputs": [
    {
     "name": "stdout",
     "output_type": "stream",
     "text": [
      "                           ST   ST_conf\n",
      "predation_rate       0.133747  0.024334\n",
      "predator_efficiency  0.805391  0.072695\n",
      "predator_loss_rate   0.583387  0.064980\n",
      "prey_birth_rate      0.503496  0.052597\n",
      "                           S1   S1_conf\n",
      "predation_rate      -0.004193  0.028824\n",
      "predator_efficiency  0.382389  0.071906\n",
      "predator_loss_rate   0.073179  0.065812\n",
      "prey_birth_rate      0.007460  0.056584\n",
      "                                                 S2   S2_conf\n",
      "(predation_rate, predator_efficiency)      0.010873  0.049837\n",
      "(predation_rate, predator_loss_rate)       0.003628  0.043119\n",
      "(predation_rate, prey_birth_rate)          0.015132  0.044400\n",
      "(predator_efficiency, predator_loss_rate) -0.050348  0.116042\n",
      "(predator_efficiency, prey_birth_rate)    -0.021462  0.098980\n",
      "(predator_loss_rate, prey_birth_rate)      0.078917  0.089124\n"
     ]
    }
   ],
   "source": [
    "problem = get_SALib_problem(model.uncertainties)\n",
    "Si = sobol.analyze(\n",
    "    problem, prey[\"end\"].to_numpy(), calc_second_order=True, print_to_console=True\n",
    ")"
   ],
   "metadata": {
    "collapsed": false,
    "pycharm": {
     "name": "#%%\n"
    }
   }
  },
  {
   "cell_type": "code",
   "execution_count": 7,
   "outputs": [
    {
     "data": {
      "text/plain": "<Figure size 576x432 with 1 Axes>",
      "image/png": "[encoded data removed]"
     },
     "metadata": {
      "needs_background": "light"
     },
     "output_type": "display_data"
    }
   ],
   "source": [
    "scores_filtered = {k: Si[k] for k in [\"ST\", \"ST_conf\", \"S1\", \"S1_conf\"]}\n",
    "Si_df = pd.DataFrame(scores_filtered, index=problem[\"names\"])\n",
    "\n",
    "sns.set_style(\"white\")\n",
    "fig, ax = plt.subplots(1)\n",
    "\n",
    "indices = Si_df[[\"S1\", \"ST\"]]\n",
    "err = Si_df[[\"S1_conf\", \"ST_conf\"]]\n",
    "\n",
    "indices.plot.bar(yerr=err.values.T, ax=ax)\n",
    "fig.set_size_inches(8, 6)\n",
    "fig.subplots_adjust(bottom=0.3)\n",
    "plt.show()"
   ],
   "metadata": {
    "collapsed": false,
    "pycharm": {
     "name": "#%%\n"
    }
   }
  },
  {
   "cell_type": "code",
   "execution_count": 7,
   "outputs": [],
   "source": [],
   "metadata": {
    "collapsed": false,
    "pycharm": {
     "name": "#%%\n"
    }
   }
  }
 ],
 "metadata": {
  "kernelspec": {
   "display_name": "Python 3",
   "language": "python",
   "name": "python3"
  },
  "language_info": {
   "codemirror_mode": {
    "name": "ipython",
    "version": 3
   },
   "file_extension": ".py",
   "mimetype": "text/x-python",
   "name": "python",
   "nbconvert_exporter": "python",
   "pygments_lexer": "ipython3",
   "version": "3.7.6"
  }
 },
 "nbformat": 4,
 "nbformat_minor": 4
}