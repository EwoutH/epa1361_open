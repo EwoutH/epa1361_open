{
 "cells": [
  {
   "cell_type": "code",
   "execution_count": 1,
   "outputs": [],
   "source": [
    "import pandas as pd\n",
    "import seaborn as sns\n",
    "import numpy as np\n",
    "import matplotlib.pyplot as plt"
   ],
   "metadata": {
    "collapsed": false,
    "pycharm": {
     "name": "#%%\n"
    }
   }
  },
  {
   "cell_type": "code",
   "execution_count": 2,
   "metadata": {
    "collapsed": true,
    "pycharm": {
     "name": "#%%\n"
    }
   },
   "outputs": [],
   "source": [
    "results = {}\n",
    "results[\"Current\"] = [16.97751339999968, 16.818536799999947, 16.963807899999665, 17.606797099999767, 18.31542010000021, 17.639923400000043, 17.30390299999999, 17.879998500000056, 17.768271699999787, 17.82990699999982, 17.28596099999959, 17.40190480000001, 17.555403800000022, 18.350077300000066, 22.225675499999852, 18.5620629, 17.30625269999973, 17.334244900000158, 17.64617360000011, 17.682680100000198, 17.498341099999834, 16.91424790000019, 16.614661799999794, 16.987222900000233, 17.312962799999696]\n",
    "results[\"SciPy\"] = [21.416747600000235, 23.494408499999736, 22.146592700000383, 22.119553200000155, 23.208975499999724, 22.590130600000066, 25.450615200000357, 24.663307700000132, 22.329802499999914, 22.339937499999905, 21.995148099999824, 21.79576139999972, 21.849016799999845, 21.91749310000023, 21.98122199999989, 23.127855799999907, 23.062879900000098, 21.89770750000025, 21.7885782999997, 21.917161900000337, 21.89435709999998, 21.91791719999992, 21.851455200000146, 21.943565600000056, 21.838630100000046]\n",
    "results[\"NumPy\"] = [4.334501400000136, 4.329865800000334, 4.325451300000168, 4.381386200000179, 4.382754300000215, 4.523957200000041, 4.492876199999955, 4.650487399999747, 5.13620549999996, 4.905592199999774, 4.504467199999908, 4.6680114000000685, 4.793488799999977, 4.450483900000108, 4.366043600000012, 4.491186599999764, 4.442693899999995, 4.508748100000048, 4.46682439999995, 4.528568800000357, 4.341107500000362, 4.589768899999854, 4.522479700000076, 4.4037412000002405, 4.3385896999998295]"
   ]
  },
  {
   "cell_type": "code",
   "execution_count": 3,
   "outputs": [
    {
     "data": {
      "text/plain": "      Current      SciPy     NumPy\n0   16.977513  21.416748  4.334501\n1   16.818537  23.494408  4.329866\n2   16.963808  22.146593  4.325451\n3   17.606797  22.119553  4.381386\n4   18.315420  23.208975  4.382754\n5   17.639923  22.590131  4.523957\n6   17.303903  25.450615  4.492876\n7   17.879999  24.663308  4.650487\n8   17.768272  22.329802  5.136205\n9   17.829907  22.339937  4.905592\n10  17.285961  21.995148  4.504467\n11  17.401905  21.795761  4.668011\n12  17.555404  21.849017  4.793489\n13  18.350077  21.917493  4.450484\n14  22.225675  21.981222  4.366044\n15  18.562063  23.127856  4.491187\n16  17.306253  23.062880  4.442694\n17  17.334245  21.897708  4.508748\n18  17.646174  21.788578  4.466824\n19  17.682680  21.917162  4.528569\n20  17.498341  21.894357  4.341108\n21  16.914248  21.917917  4.589769\n22  16.614662  21.851455  4.522480\n23  16.987223  21.943566  4.403741\n24  17.312963  21.838630  4.338590",
      "text/html": "<div>\n<style scoped>\n    .dataframe tbody tr th:only-of-type {\n        vertical-align: middle;\n    }\n\n    .dataframe tbody tr th {\n        vertical-align: top;\n    }\n\n    .dataframe thead th {\n        text-align: right;\n    }\n</style>\n<table border=\"1\" class=\"dataframe\">\n  <thead>\n    <tr style=\"text-align: right;\">\n      <th></th>\n      <th>Current</th>\n      <th>SciPy</th>\n      <th>NumPy</th>\n    </tr>\n  </thead>\n  <tbody>\n    <tr>\n      <th>0</th>\n      <td>16.977513</td>\n      <td>21.416748</td>\n      <td>4.334501</td>\n    </tr>\n    <tr>\n      <th>1</th>\n      <td>16.818537</td>\n      <td>23.494408</td>\n      <td>4.329866</td>\n    </tr>\n    <tr>\n      <th>2</th>\n      <td>16.963808</td>\n      <td>22.146593</td>\n      <td>4.325451</td>\n    </tr>\n    <tr>\n      <th>3</th>\n      <td>17.606797</td>\n      <td>22.119553</td>\n      <td>4.381386</td>\n    </tr>\n    <tr>\n      <th>4</th>\n      <td>18.315420</td>\n      <td>23.208975</td>\n      <td>4.382754</td>\n    </tr>\n    <tr>\n      <th>5</th>\n      <td>17.639923</td>\n      <td>22.590131</td>\n      <td>4.523957</td>\n    </tr>\n    <tr>\n      <th>6</th>\n      <td>17.303903</td>\n      <td>25.450615</td>\n      <td>4.492876</td>\n    </tr>\n    <tr>\n      <th>7</th>\n      <td>17.879999</td>\n      <td>24.663308</td>\n      <td>4.650487</td>\n    </tr>\n    <tr>\n      <th>8</th>\n      <td>17.768272</td>\n      <td>22.329802</td>\n      <td>5.136205</td>\n    </tr>\n    <tr>\n      <th>9</th>\n      <td>17.829907</td>\n      <td>22.339937</td>\n      <td>4.905592</td>\n    </tr>\n    <tr>\n      <th>10</th>\n      <td>17.285961</td>\n      <td>21.995148</td>\n      <td>4.504467</td>\n    </tr>\n    <tr>\n      <th>11</th>\n      <td>17.401905</td>\n      <td>21.795761</td>\n      <td>4.668011</td>\n    </tr>\n    <tr>\n      <th>12</th>\n      <td>17.555404</td>\n      <td>21.849017</td>\n      <td>4.793489</td>\n    </tr>\n    <tr>\n      <th>13</th>\n      <td>18.350077</td>\n      <td>21.917493</td>\n      <td>4.450484</td>\n    </tr>\n    <tr>\n      <th>14</th>\n      <td>22.225675</td>\n      <td>21.981222</td>\n      <td>4.366044</td>\n    </tr>\n    <tr>\n      <th>15</th>\n      <td>18.562063</td>\n      <td>23.127856</td>\n      <td>4.491187</td>\n    </tr>\n    <tr>\n      <th>16</th>\n      <td>17.306253</td>\n      <td>23.062880</td>\n      <td>4.442694</td>\n    </tr>\n    <tr>\n      <th>17</th>\n      <td>17.334245</td>\n      <td>21.897708</td>\n      <td>4.508748</td>\n    </tr>\n    <tr>\n      <th>18</th>\n      <td>17.646174</td>\n      <td>21.788578</td>\n      <td>4.466824</td>\n    </tr>\n    <tr>\n      <th>19</th>\n      <td>17.682680</td>\n      <td>21.917162</td>\n      <td>4.528569</td>\n    </tr>\n    <tr>\n      <th>20</th>\n      <td>17.498341</td>\n      <td>21.894357</td>\n      <td>4.341108</td>\n    </tr>\n    <tr>\n      <th>21</th>\n      <td>16.914248</td>\n      <td>21.917917</td>\n      <td>4.589769</td>\n    </tr>\n    <tr>\n      <th>22</th>\n      <td>16.614662</td>\n      <td>21.851455</td>\n      <td>4.522480</td>\n    </tr>\n    <tr>\n      <th>23</th>\n      <td>16.987223</td>\n      <td>21.943566</td>\n      <td>4.403741</td>\n    </tr>\n    <tr>\n      <th>24</th>\n      <td>17.312963</td>\n      <td>21.838630</td>\n      <td>4.338590</td>\n    </tr>\n  </tbody>\n</table>\n</div>"
     },
     "execution_count": 3,
     "metadata": {},
     "output_type": "execute_result"
    }
   ],
   "source": [
    "df = pd.DataFrame.from_dict(results)\n",
    "df"
   ],
   "metadata": {
    "collapsed": false,
    "pycharm": {
     "name": "#%%\n"
    }
   }
  },
  {
   "cell_type": "code",
   "execution_count": 4,
   "outputs": [
    {
     "data": {
      "text/plain": "<Figure size 432x288 with 1 Axes>",
      "image/png": "[encoded data removed]"
     },
     "metadata": {
      "needs_background": "light"
     },
     "output_type": "display_data"
    }
   ],
   "source": [
    "boxplot = sns.boxplot(data=df)\n",
    "boxplot.set_ylabel(\"Duration of 10 dike_model experiments (in seconds)\")\n",
    "boxplot.set_xlabel(\"Linear lookup implementation\")\n",
    "boxplot.set_ylim(0)\n",
    "plt.savefig(\"linear_lookup_performance_boxplot.svg\")"
   ],
   "metadata": {
    "collapsed": false,
    "pycharm": {
     "name": "#%%\n"
    }
   }
  },
  {
   "cell_type": "code",
   "execution_count": 5,
   "outputs": [
    {
     "name": "stdout",
     "output_type": "stream",
     "text": [
      "Average speedup: 3.913755893052181\n"
     ]
    }
   ],
   "source": [
    "print(f\"Average speedup: {np.mean(results['Current'])/np.mean(results['NumPy'])}\")"
   ],
   "metadata": {
    "collapsed": false,
    "pycharm": {
     "name": "#%%\n"
    }
   }
  },
  {
   "cell_type": "code",
   "execution_count": 6,
   "outputs": [],
   "source": [
    "df.to_csv(\"linlookup_benchmark_results.csv\")"
   ],
   "metadata": {
    "collapsed": false,
    "pycharm": {
     "name": "#%%\n"
    }
   }
  }
 ],
 "metadata": {
  "kernelspec": {
   "display_name": "Python 3",
   "language": "python",
   "name": "python3"
  },
  "language_info": {
   "codemirror_mode": {
    "name": "ipython",
    "version": 2
   },
   "file_extension": ".py",
   "mimetype": "text/x-python",
   "name": "python",
   "nbconvert_exporter": "python",
   "pygments_lexer": "ipython2",
   "version": "2.7.6"
  }
 },
 "nbformat": 4,
 "nbformat_minor": 0
}